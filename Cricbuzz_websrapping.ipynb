{
  "cells": [
    {
      "cell_type": "markdown",
      "metadata": {
        "id": "view-in-github",
        "colab_type": "text"
      },
      "source": [
        "<a href=\"https://colab.research.google.com/github/ChhaSahil/IPL_Cluster/blob/main/Cricbuzz_websrapping.ipynb\" target=\"_parent\"><img src=\"https://colab.research.google.com/assets/colab-badge.svg\" alt=\"Open In Colab\"/></a>"
      ]
    },
    {
      "cell_type": "code",
      "execution_count": null,
      "id": "e7c676cc",
      "metadata": {
        "id": "e7c676cc"
      },
      "outputs": [],
      "source": [
        "!pip install selenium"
      ]
    },
    {
      "cell_type": "code",
      "execution_count": null,
      "id": "a88d4c1f",
      "metadata": {
        "id": "a88d4c1f"
      },
      "outputs": [],
      "source": [
        "from bs4 import BeautifulSoup\n",
        "import pandas as pd\n",
        "from selenium import webdriver"
      ]
    },
    {
      "cell_type": "code",
      "execution_count": null,
      "id": "4e2b57d9",
      "metadata": {
        "id": "4e2b57d9"
      },
      "outputs": [],
      "source": [
        "options = webdriver.ChromeOptions()\n",
        "options.add_argument('--ignore-certificate-errors')\n",
        "options.add_argument('--incognito')"
      ]
    },
    {
      "cell_type": "code",
      "execution_count": null,
      "id": "ed66a009",
      "metadata": {
        "id": "ed66a009"
      },
      "outputs": [],
      "source": [
        "driver = webdriver.Chrome(r\"C:\\Users\\sahil\\Downloads\\chromedriver_win32 (2)\\chromedriver.exe\" ,options=options)"
      ]
    },
    {
      "cell_type": "code",
      "execution_count": null,
      "id": "5e3f29bb",
      "metadata": {
        "id": "5e3f29bb"
      },
      "outputs": [],
      "source": [
        "driver.get(\"https://www.cricbuzz.com/cricket-series/5945/indian-premier-league-2023/squads\")"
      ]
    },
    {
      "cell_type": "code",
      "execution_count": null,
      "id": "ca845ba1",
      "metadata": {
        "id": "ca845ba1"
      },
      "outputs": [],
      "source": [
        "points_table = driver.find_element('link text',\"Points Table\")"
      ]
    },
    {
      "cell_type": "code",
      "execution_count": null,
      "id": "fdd24d49",
      "metadata": {
        "id": "fdd24d49"
      },
      "outputs": [],
      "source": [
        "points_table.click()"
      ]
    },
    {
      "cell_type": "code",
      "execution_count": null,
      "id": "4c103f72",
      "metadata": {
        "id": "4c103f72"
      },
      "outputs": [],
      "source": [
        "page_source = driver.page_source"
      ]
    },
    {
      "cell_type": "code",
      "execution_count": null,
      "id": "4b498a5d",
      "metadata": {
        "id": "4b498a5d"
      },
      "outputs": [],
      "source": [
        "soup = BeautifulSoup(page_source,'lxml')\n",
        "team_name = soup.find_all('div',class_='cb-col cb-col-84')\n",
        "team_names = []\n",
        "for i in range(len(team_name)):\n",
        "    team_names.append(team_name[i].text)"
      ]
    },
    {
      "cell_type": "code",
      "execution_count": null,
      "id": "e10cd3b0",
      "metadata": {
        "id": "e10cd3b0"
      },
      "outputs": [],
      "source": [
        "team_names"
      ]
    },
    {
      "cell_type": "code",
      "execution_count": null,
      "id": "8d6ddc37",
      "metadata": {
        "id": "8d6ddc37"
      },
      "outputs": [],
      "source": [
        "squads = driver.find_element('link text','Squads')"
      ]
    },
    {
      "cell_type": "code",
      "execution_count": null,
      "id": "850f8c33",
      "metadata": {
        "id": "850f8c33"
      },
      "outputs": [],
      "source": [
        "squads.click()"
      ]
    },
    {
      "cell_type": "code",
      "execution_count": null,
      "id": "fcba5651",
      "metadata": {
        "id": "fcba5651"
      },
      "outputs": [],
      "source": [
        "import time"
      ]
    },
    {
      "cell_type": "code",
      "execution_count": null,
      "id": "a42acdb9",
      "metadata": {
        "id": "a42acdb9"
      },
      "outputs": [],
      "source": [
        "p_profile=[]\n",
        "team2=[]\n",
        "team_name = []\n",
        "for team in team_names:\n",
        "    \n",
        "#     driver.get(\"https://www.cricbuzz.com/cricket-series/5945/indian-premier-league-2023/squads\")\n",
        "   \n",
        "    team_p = driver.find_element('partial link text',team)\n",
        "    print()\n",
        "    team_p.click()\n",
        "    time.sleep(2)\n",
        "    soup = BeautifulSoup(driver.page_source,'lxml')\n",
        "    profiles = soup.find_all('a',class_='cb-col cb-col-50')\n",
        "    \n",
        "    print(team,len(profiles))\n",
        "    if len(profiles)<26:\n",
        "        for prof in profiles:\n",
        "            team_name.append(team)\n",
        "            p_profile.append('https://www.cricbuzz.com'+prof.get('href'))\n",
        "    else:\n",
        "        team2.append(team)"
      ]
    },
    {
      "cell_type": "code",
      "execution_count": null,
      "id": "936c3ed3",
      "metadata": {
        "id": "936c3ed3"
      },
      "outputs": [],
      "source": [
        "len(p_profile)"
      ]
    },
    {
      "cell_type": "code",
      "execution_count": null,
      "id": "c9844ee8",
      "metadata": {
        "id": "c9844ee8"
      },
      "outputs": [],
      "source": [
        "team_name"
      ]
    },
    {
      "cell_type": "code",
      "execution_count": null,
      "id": "2923dc72",
      "metadata": {
        "id": "2923dc72"
      },
      "outputs": [],
      "source": [
        "soup = BeautifulSoup(page_source,'lxml')"
      ]
    },
    {
      "cell_type": "code",
      "execution_count": null,
      "id": "3f7a558d",
      "metadata": {
        "id": "3f7a558d"
      },
      "outputs": [],
      "source": [
        "img_url = soup.find_all('img',title=team_name[0])"
      ]
    },
    {
      "cell_type": "code",
      "execution_count": null,
      "id": "b85fc698",
      "metadata": {
        "id": "b85fc698"
      },
      "outputs": [],
      "source": [
        "img_url"
      ]
    },
    {
      "cell_type": "code",
      "execution_count": null,
      "id": "623f5e6e",
      "metadata": {
        "id": "623f5e6e"
      },
      "outputs": [],
      "source": [
        "team_img = []\n",
        "for team in team_name:\n",
        "    img_url = soup.find_all('img',title=team)\n",
        "    team_img.append(img_url[0]['src'])"
      ]
    },
    {
      "cell_type": "code",
      "execution_count": null,
      "id": "86c40206",
      "metadata": {
        "scrolled": true,
        "id": "86c40206"
      },
      "outputs": [],
      "source": [
        "len(team_img)"
      ]
    },
    {
      "cell_type": "code",
      "execution_count": null,
      "id": "39c50acc",
      "metadata": {
        "id": "39c50acc"
      },
      "outputs": [],
      "source": [
        "p_profile"
      ]
    },
    {
      "cell_type": "code",
      "execution_count": null,
      "id": "42edad1c",
      "metadata": {
        "id": "42edad1c"
      },
      "outputs": [],
      "source": [
        "p=p_profile[0]"
      ]
    },
    {
      "cell_type": "code",
      "execution_count": null,
      "id": "806c5d62",
      "metadata": {
        "id": "806c5d62"
      },
      "outputs": [],
      "source": [
        "driver.get(p)"
      ]
    },
    {
      "cell_type": "code",
      "execution_count": null,
      "id": "e0ecf865",
      "metadata": {
        "id": "e0ecf865"
      },
      "outputs": [],
      "source": [
        "soup = BeautifulSoup(driver.page_source,'lxml')\n",
        "stats = soup.find_all('td')\n",
        "ipl_=[]\n",
        "c=0\n",
        "for tag in range(len(stats)):\n",
        "    if stats[tag].text=='IPL':\n",
        "        c=1\n",
        "for tag in range(len(stats)):\n",
        "    if stats[tag].text=='IPL':\n",
        "        ipl_.append(tag)\n",
        "    elif stats[tag].text == 'T20I' and c==0:\n",
        "        ipl_.append(tag)"
      ]
    },
    {
      "cell_type": "code",
      "execution_count": null,
      "id": "6eb39147",
      "metadata": {
        "id": "6eb39147"
      },
      "outputs": [],
      "source": [
        "for tag in range(ipl_[0]+1,ipl_[0]+14)"
      ]
    },
    {
      "cell_type": "code",
      "execution_count": null,
      "id": "dceb9efc",
      "metadata": {
        "id": "dceb9efc"
      },
      "outputs": [],
      "source": [
        "stats[50].text"
      ]
    },
    {
      "cell_type": "code",
      "execution_count": null,
      "id": "7544928e",
      "metadata": {
        "id": "7544928e"
      },
      "outputs": [],
      "source": [
        "age=soup.find_all('div',class_='cb-col cb-col-60 cb-lst-itm-sm')"
      ]
    },
    {
      "cell_type": "code",
      "execution_count": null,
      "id": "d6f5d860",
      "metadata": {
        "id": "d6f5d860"
      },
      "outputs": [],
      "source": [
        "age[0].text[15:17]"
      ]
    },
    {
      "cell_type": "code",
      "execution_count": null,
      "id": "3c21a143",
      "metadata": {
        "id": "3c21a143"
      },
      "outputs": [],
      "source": [
        "p_stats = []\n",
        "i=0\n",
        "no_match = []\n",
        "name_player=[]\n",
        "age_p=[]\n",
        "for profile in p_profile:\n",
        "    print(i,profile)\n",
        "    driver.get(profile)\n",
        "    soup = BeautifulSoup(driver.page_source,'lxml')\n",
        "    stats = soup.find_all('td')\n",
        "    age = soup.find_all('div',class_='cb-col cb-col-60 cb-lst-itm-sm')\n",
        "    ipl_=[]\n",
        "    c=0\n",
        "    for tag in range(len(stats)):\n",
        "        if stats[tag].text=='IPL':\n",
        "            c=1\n",
        "    for tag in range(len(stats)):\n",
        "        if stats[tag].text=='IPL':\n",
        "            ipl_.append(tag)\n",
        "        elif stats[tag].text == 'T20I' and c==0:\n",
        "            \n",
        "            ipl_.append(tag)\n",
        "    try:\n",
        "        for tag in range(ipl_[0]+1,ipl_[0]+14):\n",
        "            p_stats.append(stats[tag].text)\n",
        "        for tag in range(ipl_[1]+1,ipl_[1]+13):\n",
        "            p_stats.append(stats[tag].text)\n",
        "        age_p.append(age[0].text[15:17])  \n",
        "        print(age[0].text[15:17])\n",
        "    except:\n",
        "        no_match.append(profile)\n",
        "    i+=1\n",
        "        "
      ]
    },
    {
      "cell_type": "code",
      "execution_count": null,
      "id": "919b9577",
      "metadata": {
        "id": "919b9577"
      },
      "outputs": [],
      "source": [
        "len(no_match)"
      ]
    },
    {
      "cell_type": "code",
      "execution_count": null,
      "id": "8a65af06",
      "metadata": {
        "id": "8a65af06"
      },
      "outputs": [],
      "source": [
        "no_match"
      ]
    },
    {
      "cell_type": "code",
      "execution_count": null,
      "id": "2c3f9498",
      "metadata": {
        "id": "2c3f9498"
      },
      "outputs": [],
      "source": [
        "team_p = driver.find_element('partial link text','Lucknow Super Giants')\n",
        "team_p.click()"
      ]
    },
    {
      "cell_type": "code",
      "execution_count": null,
      "id": "0abb2ed2",
      "metadata": {
        "id": "0abb2ed2"
      },
      "outputs": [],
      "source": [
        "soup = BeautifulSoup(driver.page_source,'lxml')\n",
        "profiles = soup.find_all('a',class_='cb-col cb-col-50')"
      ]
    },
    {
      "cell_type": "code",
      "execution_count": null,
      "id": "d2d2e309",
      "metadata": {
        "id": "d2d2e309"
      },
      "outputs": [],
      "source": [
        "profiles"
      ]
    },
    {
      "cell_type": "code",
      "execution_count": null,
      "id": "e97a463b",
      "metadata": {
        "id": "e97a463b"
      },
      "outputs": [],
      "source": [
        "team_p.click()"
      ]
    },
    {
      "cell_type": "code",
      "execution_count": null,
      "id": "348e8115",
      "metadata": {
        "id": "348e8115"
      },
      "outputs": [],
      "source": [
        "len(p_stats)"
      ]
    },
    {
      "cell_type": "code",
      "execution_count": null,
      "id": "cd1f2774",
      "metadata": {
        "id": "cd1f2774"
      },
      "outputs": [],
      "source": [
        "len(no_match)"
      ]
    },
    {
      "cell_type": "code",
      "execution_count": null,
      "id": "9103c3e2",
      "metadata": {
        "id": "9103c3e2"
      },
      "outputs": [],
      "source": [
        "p_found = set(p_profile)-set(no_match)"
      ]
    },
    {
      "cell_type": "code",
      "execution_count": null,
      "id": "5671e43c",
      "metadata": {
        "id": "5671e43c"
      },
      "outputs": [],
      "source": [
        "no_match[0]"
      ]
    },
    {
      "cell_type": "code",
      "execution_count": null,
      "id": "68ab5790",
      "metadata": {
        "id": "68ab5790"
      },
      "outputs": [],
      "source": [
        "teams_name2 = []\n",
        "for i in range(len(p_profile)):\n",
        "    if p_profile[i] in no_match:\n",
        "        continue\n",
        "    else:\n",
        "        teams_name2.append(team_name[i])"
      ]
    },
    {
      "cell_type": "code",
      "execution_count": null,
      "id": "07b1e049",
      "metadata": {
        "id": "07b1e049"
      },
      "outputs": [],
      "source": [
        "team_img2 = []\n",
        "for i in range(len(p_profile)):\n",
        "    if p_profile[i] in no_match:\n",
        "        continue\n",
        "    else:\n",
        "        team_img2.append(team_img[i])"
      ]
    },
    {
      "cell_type": "code",
      "execution_count": null,
      "id": "d49eb07d",
      "metadata": {
        "id": "d49eb07d"
      },
      "outputs": [],
      "source": [
        "len(team_img2)"
      ]
    },
    {
      "cell_type": "code",
      "execution_count": null,
      "id": "fb2cfcd2",
      "metadata": {
        "id": "fb2cfcd2"
      },
      "outputs": [],
      "source": [
        "len(teams_name2)"
      ]
    },
    {
      "cell_type": "code",
      "execution_count": null,
      "id": "5b41ebdb",
      "metadata": {
        "id": "5b41ebdb"
      },
      "outputs": [],
      "source": [
        "len(p_found)"
      ]
    },
    {
      "cell_type": "code",
      "execution_count": null,
      "id": "45ad5af2",
      "metadata": {
        "id": "45ad5af2"
      },
      "outputs": [],
      "source": [
        "p_profile2 = list(p_found)"
      ]
    },
    {
      "cell_type": "code",
      "execution_count": null,
      "id": "8cca9a0d",
      "metadata": {
        "id": "8cca9a0d"
      },
      "outputs": [],
      "source": [
        "p_profile[0]"
      ]
    },
    {
      "cell_type": "code",
      "execution_count": null,
      "id": "e235330e",
      "metadata": {
        "id": "e235330e"
      },
      "outputs": [],
      "source": [
        "role = soup.find_all('div',class_='cb-col cb-col-60 cb-lst-itm-sm')"
      ]
    },
    {
      "cell_type": "code",
      "execution_count": null,
      "id": "039f450b",
      "metadata": {
        "id": "039f450b"
      },
      "outputs": [],
      "source": [
        "role[2].text.strip()"
      ]
    },
    {
      "cell_type": "code",
      "execution_count": null,
      "id": "e2eb2bf2",
      "metadata": {
        "id": "e2eb2bf2"
      },
      "outputs": [],
      "source": [
        "player = soup.find_all('img',title='profile image')\n",
        "'https://www.cricbuzz.com/'+player[0]['src']"
      ]
    },
    {
      "cell_type": "code",
      "execution_count": null,
      "id": "97a911a1",
      "metadata": {
        "id": "97a911a1"
      },
      "outputs": [],
      "source": [
        "name_p = []\n",
        "role_p=[]\n",
        "image_url = []\n",
        "for profile in p_profile:\n",
        "    driver.get(profile)\n",
        "    soup = BeautifulSoup(driver.page_source,'lxml')\n",
        "    name = soup.find_all('h1',class_='cb-font-40')\n",
        "    role = soup.find_all('div',class_='cb-col cb-col-60 cb-lst-itm-sm')\n",
        "    p_image = soup.find('img',title='profile image')\n",
        "    if profile not in no_match:\n",
        "        name_p.append(name[0].text)\n",
        "        role_p.append(role[2].text.strip())\n",
        "        image_url.append('https://www.cricbuzz.com'+p_image['src'])\n",
        "        print(name[0].text,role[2].text.strip(),p_image['src'])\n",
        "    "
      ]
    },
    {
      "cell_type": "code",
      "execution_count": null,
      "id": "718eda9b",
      "metadata": {
        "id": "718eda9b"
      },
      "outputs": [],
      "source": [
        "len(name_p)"
      ]
    },
    {
      "cell_type": "code",
      "execution_count": null,
      "id": "60ef2ffa",
      "metadata": {
        "id": "60ef2ffa"
      },
      "outputs": [],
      "source": [
        "no_match"
      ]
    },
    {
      "cell_type": "code",
      "execution_count": null,
      "id": "1ce4fa04",
      "metadata": {
        "id": "1ce4fa04"
      },
      "outputs": [],
      "source": [
        "name_p[0]"
      ]
    },
    {
      "cell_type": "code",
      "execution_count": null,
      "id": "d2df6786",
      "metadata": {
        "id": "d2df6786"
      },
      "outputs": [],
      "source": [
        "role_p[0]"
      ]
    },
    {
      "cell_type": "code",
      "execution_count": null,
      "id": "7ffd506d",
      "metadata": {
        "id": "7ffd506d"
      },
      "outputs": [],
      "source": [
        "image_url[0]"
      ]
    },
    {
      "cell_type": "code",
      "execution_count": null,
      "id": "3671450b",
      "metadata": {
        "id": "3671450b"
      },
      "outputs": [],
      "source": [
        "name = []\n",
        "matches = []\n",
        "innings = []\n",
        "not_outs = []\n",
        "runs = []\n",
        "highest_score = []\n",
        "bat_avg = []\n",
        "balls_faced = []\n",
        "strike_rate = []\n",
        "hundreds = []\n",
        "double_hundred = []\n",
        "half_century = []\n",
        "fours = []\n",
        "sixes = []\n",
        "matches2 = []\n",
        "innings2 = []\n",
        "balls_bowled = []\n",
        "runs_conceded = []\n",
        "wickets = []\n",
        "bbi = []\n",
        "bbm = []\n",
        "econ = []\n",
        "bowl_avg = []\n",
        "sr = []\n",
        "five_wicket = []\n",
        "ten_wicket = []\n",
        "\n",
        "\n",
        "for i in range(199):\n",
        "\n",
        "    matches.append(p_stats[i*25])\n",
        "    innings.append(p_stats[i*25+1])\n",
        "    not_outs.append(p_stats[i*25+2])\n",
        "    runs.append(p_stats[i*25+3])\n",
        "    highest_score.append(p_stats[i*25+4])\n",
        "    bat_avg.append(p_stats[i*25+5])\n",
        "    balls_faced.append(p_stats[i*25+6])\n",
        "    strike_rate.append(p_stats[i*25+7])\n",
        "    hundreds.append(p_stats[i*25+8])\n",
        "    double_hundred.append(p_stats[i*25+9])\n",
        "    half_century.append(p_stats[i*25+10])\n",
        "    fours.append(p_stats[i*25+11])\n",
        "    sixes.append(p_stats[i*25+12])\n",
        "    matches2.append(p_stats[i*25+13])\n",
        "    innings2.append(p_stats[i*25+14])\n",
        "    balls_bowled.append(p_stats[i*25+15])\n",
        "    runs_conceded.append(p_stats[i*25+16])\n",
        "    wickets.append(p_stats[i*25+17])\n",
        "    bbi.append(p_stats[i*25+18])\n",
        "    bbm.append(p_stats[i*25+19])\n",
        "    econ.append(p_stats[i*25+20])\n",
        "    bowl_avg.append(p_stats[i*25+21])\n",
        "    sr.append(p_stats[i*25+22])\n",
        "    five_wicket.append(p_stats[i*25+23])\n",
        "    ten_wicket.append(p_stats[i*25+24])\n",
        "    \n",
        "    \n",
        "    "
      ]
    },
    {
      "cell_type": "code",
      "execution_count": null,
      "id": "0edff7a4",
      "metadata": {
        "id": "0edff7a4"
      },
      "outputs": [],
      "source": [
        "len(bbi)"
      ]
    },
    {
      "cell_type": "code",
      "execution_count": null,
      "id": "21576d6f",
      "metadata": {
        "id": "21576d6f"
      },
      "outputs": [],
      "source": [
        "teams_name2"
      ]
    },
    {
      "cell_type": "code",
      "execution_count": null,
      "id": "5a4d0161",
      "metadata": {
        "id": "5a4d0161"
      },
      "outputs": [],
      "source": [
        "player={}\n",
        "\n",
        "player['Matches'] = matches\n",
        "player['Innings'] = innings\n",
        "player['Not_Outs'] = not_outs\n",
        "player['Runs'] = runs\n",
        "player['Highest_Score'] = highest_score\n",
        "player['Batting_Average'] = bat_avg\n",
        "player['Balls_Faced'] = balls_faced\n",
        "player['Strike Rate'] = strike_rate\n",
        "player['Hundreds'] = hundreds\n",
        "player['Double Hundreds'] = double_hundred\n",
        "player['Half Century'] = half_century\n",
        "player['Fours'] = fours\n",
        "player['Sixes'] = sixes\n",
        "player['Bowls Bowled'] = balls_bowled\n",
        "player['Runs Conceded'] = runs_conceded\n",
        "player['Wickets'] = wickets\n",
        "player['Economy'] = econ\n",
        "player['Bowling Average'] = bowl_avg\n",
        "player['Strike Rate_Bowl'] = sr\n",
        "player['Five-Wicket Haul'] = five_wicket\n",
        "player['Ten-Wicket Haul'] = ten_wicket\n",
        "player['Age'] = age_p\n",
        "# player['image_url'] = image_url\n",
        "# player['Role'] = role_p\n",
        "# player['Team_IPL'] = teams_name2\n",
        "# player['Team_img'] = team_img2"
      ]
    },
    {
      "cell_type": "code",
      "execution_count": null,
      "id": "78a1d3c4",
      "metadata": {
        "id": "78a1d3c4"
      },
      "outputs": [],
      "source": [
        "age_p"
      ]
    },
    {
      "cell_type": "code",
      "execution_count": null,
      "id": "a0566039",
      "metadata": {
        "id": "a0566039"
      },
      "outputs": [],
      "source": [
        "ipl_data = pd.DataFrame(player)"
      ]
    },
    {
      "cell_type": "code",
      "execution_count": null,
      "id": "af4320d9",
      "metadata": {
        "id": "af4320d9"
      },
      "outputs": [],
      "source": [
        "def change(team):\n",
        "    return 'https://www.cricbuzz.com'+team"
      ]
    },
    {
      "cell_type": "code",
      "execution_count": null,
      "id": "7b187542",
      "metadata": {
        "id": "7b187542"
      },
      "outputs": [],
      "source": [
        "ipl_data['Team_img'] = ipl_data['Team_img'].apply(change)"
      ]
    },
    {
      "cell_type": "code",
      "execution_count": null,
      "id": "c74cb9b3",
      "metadata": {
        "scrolled": true,
        "id": "c74cb9b3"
      },
      "outputs": [],
      "source": [
        "ipl_data['Strike Rate_Bowl']"
      ]
    },
    {
      "cell_type": "code",
      "execution_count": null,
      "id": "982054e8",
      "metadata": {
        "id": "982054e8"
      },
      "outputs": [],
      "source": [
        "ipl_data.head(35)"
      ]
    },
    {
      "cell_type": "code",
      "execution_count": null,
      "id": "7279fde7",
      "metadata": {
        "id": "7279fde7"
      },
      "outputs": [],
      "source": [
        "ipl_data.to_csv('IPL_2023_SR.csv')"
      ]
    }
  ],
  "metadata": {
    "kernelspec": {
      "display_name": "Python 3 (ipykernel)",
      "language": "python",
      "name": "python3"
    },
    "language_info": {
      "codemirror_mode": {
        "name": "ipython",
        "version": 3
      },
      "file_extension": ".py",
      "mimetype": "text/x-python",
      "name": "python",
      "nbconvert_exporter": "python",
      "pygments_lexer": "ipython3",
      "version": "3.10.0"
    },
    "colab": {
      "provenance": [],
      "include_colab_link": true
    }
  },
  "nbformat": 4,
  "nbformat_minor": 5
}